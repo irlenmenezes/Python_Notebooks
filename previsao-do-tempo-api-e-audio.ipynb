{
 "cells": [
  {
   "cell_type": "code",
   "execution_count": 16,
   "id": "cb2a14b2-b1a1-4b21-ad48-45e182bbe6ad",
   "metadata": {},
   "outputs": [],
   "source": [
    "import requests\n",
    "import json\n",
    "import pyttsx3\n",
    "\n",
    "city = input(\"Digite a cidade para a qual deseja obter informações meteorológicas: \")\n",
    "\n",
    "# Faça uma solicitação à API OpenWeatherMap para obter as informações meteorológicas da cidade especificada\n",
    "api_key = \"DIGITE SUA API AQUI\" #gere a api aqui www.openweathermap.org\n",
    "weather_url = f\"http://api.openweathermap.org/data/2.5/weather?q={city}&appid={api_key}\"\n",
    "response = requests.get(weather_url)\n",
    "\n",
    "# Verifica se a requisição foi bem sucedida\n",
    "if response.status_code == 200:\n",
    "    # Se a solicitação foi bem-sucedida, analise os dados JSON\n",
    "    weather_data = json.loads(response.text)\n",
    "    main_data = weather_data[\"main\"]\n",
    "    temperature_kelvin = main_data[\"temp\"]\n",
    "    temperature_celsius = temperature_kelvin - 273.15\n",
    "    print(f\"A temperatura em {city} é de {temperature_celsius:.0f}°C\")\n",
    "    \n",
    "    engine = pyttsx3.init()\n",
    "    engine.say(f\"A temperatura em {city} é de {temperature_celsius:.0f}°C\")\n",
    "    engine.runAndWait()\n",
    "else:\n",
    "    # Se a solicitação não for bem-sucedida, imprima uma mensagem de erro\n",
    "    print(\"Ocorreu um erro ao obter as informações meteorológicas.\")\n",
    "    engine = pyttsx3.init()\n",
    "    engine.say(\"Ocorreu um erro ao obter as informações meteorológicas.\")\n",
    "    engine.runAndWait()\n"
   ]
  },
  {
   "cell_type": "code",
   "execution_count": null,
   "id": "f7f7b0ed-3dcd-4b0c-a4bd-d8212f1e9231",
   "metadata": {},
   "outputs": [],
   "source": []
  }
 ],
 "metadata": {
  "kernelspec": {
   "display_name": "Python 3 (ipykernel)",
   "language": "python",
   "name": "python3"
  },
  "language_info": {
   "codemirror_mode": {
    "name": "ipython",
    "version": 3
   },
   "file_extension": ".py",
   "mimetype": "text/x-python",
   "name": "python",
   "nbconvert_exporter": "python",
   "pygments_lexer": "ipython3",
   "version": "3.9.7"
  }
 },
 "nbformat": 4,
 "nbformat_minor": 5
}
