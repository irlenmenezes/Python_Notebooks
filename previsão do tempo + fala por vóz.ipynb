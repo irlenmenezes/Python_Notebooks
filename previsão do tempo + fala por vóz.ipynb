{
 "cells": [
  {
   "cell_type": "code",
   "execution_count": 3,
   "id": "a0f6c046-72c3-42be-a70e-eeafcdb933e0",
   "metadata": {},
   "outputs": [
    {
     "ename": "SyntaxError",
     "evalue": "invalid syntax (Temp/ipykernel_17244/2058516965.py, line 1)",
     "output_type": "error",
     "traceback": [
      "\u001b[1;36m  File \u001b[1;32m\"C:\\Users\\irlen\\AppData\\Local\\Temp/ipykernel_17244/2058516965.py\"\u001b[1;36m, line \u001b[1;32m1\u001b[0m\n\u001b[1;33m    pip install pyttsx3\u001b[0m\n\u001b[1;37m        ^\u001b[0m\n\u001b[1;31mSyntaxError\u001b[0m\u001b[1;31m:\u001b[0m invalid syntax\n"
     ]
    }
   ],
   "source": [
    "pip install pyttsx3\n",
    "import requests\n",
    "from bs4 import BeautifulSoup  #bibli do scraping\n",
    "import pyttsx3 #converter texto para audio\n",
    "\n",
    "search=\"A previsão do tempo no Rio de Janeiro é de \"\n",
    "url = f\"https://www.google.com/search?q={search}\"\n",
    "r= requests.get(url)\n",
    "s= BeautifulSoup(r.text, \"html.parser\")\n",
    "update = s.find(\"div\",class_ =\"BNeawe\").text\n",
    "A = (search,update)\n",
    "print(A)\n",
    "engine = pyttsx3.init()\n",
    "engine.say(A)\n",
    "engine.runAndWait()"
   ]
  },
  {
   "cell_type": "code",
   "execution_count": null,
   "id": "f7df52fa-41b8-441b-bbcd-61e6340b3e21",
   "metadata": {},
   "outputs": [],
   "source": []
  },
  {
   "cell_type": "code",
   "execution_count": null,
   "id": "bf55b51c-b3ad-4359-94d7-40c0f9601edd",
   "metadata": {},
   "outputs": [],
   "source": []
  }
 ],
 "metadata": {
  "kernelspec": {
   "display_name": "Python 3 (ipykernel)",
   "language": "python",
   "name": "python3"
  },
  "language_info": {
   "codemirror_mode": {
    "name": "ipython",
    "version": 3
   },
   "file_extension": ".py",
   "mimetype": "text/x-python",
   "name": "python",
   "nbconvert_exporter": "python",
   "pygments_lexer": "ipython3",
   "version": "3.9.7"
  }
 },
 "nbformat": 4,
 "nbformat_minor": 5
}
