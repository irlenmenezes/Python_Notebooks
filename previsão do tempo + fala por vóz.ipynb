{
 "cells": [
  {
   "cell_type": "code",
   "execution_count": 12,
   "id": "a0f6c046-72c3-42be-a70e-eeafcdb933e0",
   "metadata": {},
   "outputs": [
    {
     "name": "stdout",
     "output_type": "stream",
     "text": [
      "Requirement already satisfied: pyttsx3 in c:\\users\\irlen\\anaconda3\\lib\\site-packages (2.90)\n",
      "Requirement already satisfied: comtypes in c:\\users\\irlen\\anaconda3\\lib\\site-packages (from pyttsx3) (1.1.10)\n",
      "Requirement already satisfied: pywin32 in c:\\users\\irlen\\anaconda3\\lib\\site-packages (from pyttsx3) (228)\n",
      "Requirement already satisfied: pypiwin32 in c:\\users\\irlen\\anaconda3\\lib\\site-packages (from pyttsx3) (223)\n",
      "Note: you may need to restart the kernel to use updated packages.\n"
     ]
    }
   ],
   "source": [
    "%pip install pyttsx3"
   ]
  },
  {
   "cell_type": "code",
   "execution_count": 10,
   "id": "f7df52fa-41b8-441b-bbcd-61e6340b3e21",
   "metadata": {},
   "outputs": [
    {
     "name": "stdout",
     "output_type": "stream",
     "text": [
      "('A previsão do tempo no Rio de Janeiro é de ', '25°C')\n"
     ]
    }
   ],
   "source": [
    "import requests\n",
    "from bs4 import BeautifulSoup  #bibli do scraping\n",
    "import pyttsx3 #converter texto para audio\n",
    "\n",
    "search=\"A previsão do tempo no Rio de Janeiro é de \"\n",
    "url = f\"https://www.google.com/search?q={search}\"\n",
    "r= requests.get(url)\n",
    "s= BeautifulSoup(r.text, \"html.parser\")\n",
    "update = s.find(\"div\",class_ =\"BNeawe\").text\n",
    "A = (search,update)\n",
    "print(A)\n",
    "engine = pyttsx3.init()\n",
    "engine.say(A)\n",
    "engine.runAndWait()"
   ]
  },
  {
   "cell_type": "code",
   "execution_count": null,
   "id": "48050b86-9fe3-462a-aea3-ba751ad61574",
   "metadata": {},
   "outputs": [],
   "source": []
  },
  {
   "cell_type": "code",
   "execution_count": null,
   "id": "1add2153-50bd-42b8-9eed-302170fed711",
   "metadata": {},
   "outputs": [],
   "source": []
  },
  {
   "cell_type": "code",
   "execution_count": null,
   "id": "bf55b51c-b3ad-4359-94d7-40c0f9601edd",
   "metadata": {},
   "outputs": [],
   "source": []
  }
 ],
 "metadata": {
  "kernelspec": {
   "display_name": "Python 3 (ipykernel)",
   "language": "python",
   "name": "python3"
  },
  "language_info": {
   "codemirror_mode": {
    "name": "ipython",
    "version": 3
   },
   "file_extension": ".py",
   "mimetype": "text/x-python",
   "name": "python",
   "nbconvert_exporter": "python",
   "pygments_lexer": "ipython3",
   "version": "3.9.7"
  }
 },
 "nbformat": 4,
 "nbformat_minor": 5
}
