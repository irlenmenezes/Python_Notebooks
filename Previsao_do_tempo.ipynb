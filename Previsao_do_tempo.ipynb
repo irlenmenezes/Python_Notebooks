{
 "cells": [
  {
   "cell_type": "code",
   "execution_count": 9,
   "id": "d6a0401d-5231-415c-b0d8-e9f8b6d49370",
   "metadata": {},
   "outputs": [
    {
     "name": "stdout",
     "output_type": "stream",
     "text": [
      "A temperatura é de: 26°C\n"
     ]
    }
   ],
   "source": [
    "import requests\n",
    "from bs4 import BeautifulSoup\n",
    "\n",
    "search=\"Previsão do tempo no Rio de Janeiro\"\n",
    "url = f\"https://www.google.com/search?q={search}\"\n",
    "r= requests.get(url)\n",
    "s= BeautifulSoup(r.text, \"html.parser\")\n",
    "update = s.find(\"div\",class_ =\"BNeawe\").text\n",
    "print('A temperatura é de:',update)"
   ]
  },
  {
   "cell_type": "code",
   "execution_count": null,
   "id": "fbcf05dd-64ff-40a0-a6d5-d5b330a9e1a6",
   "metadata": {},
   "outputs": [],
   "source": []
  },
  {
   "cell_type": "code",
   "execution_count": null,
   "id": "ca66ef33-3161-46ed-b579-261966f3b1f2",
   "metadata": {},
   "outputs": [],
   "source": []
  }
 ],
 "metadata": {
  "kernelspec": {
   "display_name": "Python 3 (ipykernel)",
   "language": "python",
   "name": "python3"
  },
  "language_info": {
   "codemirror_mode": {
    "name": "ipython",
    "version": 3
   },
   "file_extension": ".py",
   "mimetype": "text/x-python",
   "name": "python",
   "nbconvert_exporter": "python",
   "pygments_lexer": "ipython3",
   "version": "3.9.7"
  }
 },
 "nbformat": 4,
 "nbformat_minor": 5
}
