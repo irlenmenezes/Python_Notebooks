{
 "cells": [
  {
   "cell_type": "markdown",
   "id": "82413cdf-b50a-4e59-8982-7627a24a8620",
   "metadata": {},
   "source": [
    "# PREVISÃO DO TEMPO EM PYTHON COM API DA OPEN WEATHER MAP + RESULTADO EM AUDIO + MÉDIA DOS 5 DIAS"
   ]
  },
  {
   "cell_type": "code",
   "execution_count": null,
   "id": "7af28bc0-36de-46a3-9ca1-58fae8be1ffb",
   "metadata": {},
   "outputs": [],
   "source": [
    "import requests\n",
    "import json\n",
    "import pyttsx3\n",
    "from datetime import datetime\n",
    "from collections import defaultdict\n",
    "\n",
    "city = input(\"Digite a cidade para a qual deseja obter informações meteorológicas: \")\n",
    "\n",
    "# Insira sua chave de API aqui - se não tiver gere aqui https://openweathermap.org/\n",
    "api_key = \"DIGITE SUA CHAVE API DO OPEN WEATHER MAP\"\n",
    "forecast_url = f\"http://api.openweathermap.org/data/2.5/forecast?q={city}&appid={api_key}&units=metric&lang=pt_br\"\n",
    "response = requests.get(forecast_url)\n",
    "\n",
    "# Verifica se a requisição foi bem sucedida\n",
    "if response.status_code == 200:\n",
    "    # Se a solicitação foi bem-sucedida, analise os dados JSON\n",
    "    forecast_data = json.loads(response.text)\n",
    "    \n",
    "    # Verifica se a cidade foi encontrada\n",
    "    if forecast_data[\"cod\"] == \"200\":\n",
    "        forecast_list = forecast_data[\"list\"]\n",
    "        \n",
    "        # Dicionário para armazenar as temperaturas e descrições por dia\n",
    "        daily_temps = defaultdict(list)\n",
    "        daily_weather = {}\n",
    "\n",
    "        # Iterar sobre a lista de previsões e agrupar por dia\n",
    "        for forecast in forecast_list:\n",
    "            date_time = datetime.strptime(forecast[\"dt_txt\"], \"%Y-%m-%d %H:%M:%S\")\n",
    "            day_month = date_time.strftime(\"%d/%m\")\n",
    "            temperature = forecast[\"main\"][\"temp\"]\n",
    "            weather_description = forecast[\"weather\"][0][\"description\"]\n",
    "            \n",
    "            daily_temps[day_month].append(temperature)\n",
    "            if day_month not in daily_weather:\n",
    "                daily_weather[day_month] = weather_description\n",
    "        \n",
    "        print(f\"Previsão do tempo para {city} nos próximos 5 dias:\")\n",
    "        engine = pyttsx3.init()\n",
    "        engine.say(f\"Previsão do tempo para {city} nos próximos 5 dias.\")\n",
    "        \n",
    "        # Calcular e exibir a mínima, máxima e descrição do tempo por dia\n",
    "        for day, temps in list(daily_temps.items())[:5]:  # Considerar apenas os próximos 5 dias\n",
    "            max_temp = max(temps)\n",
    "            min_temp = min(temps)\n",
    "            weather_description = daily_weather[day]\n",
    "            print(f\"{day}: Mínima {min_temp:.1f}°C, Máxima {max_temp:.1f}°C, Tempo: {weather_description}\")\n",
    "            engine.say(f\"No dia {day}, a mínima de temperatura será de {min_temp:.1f} graus Celsius, \"\n",
    "                       f\"a máxima será de {max_temp:.1f} graus Celsius, com tempo {weather_description}.\")\n",
    "        \n",
    "        engine.runAndWait()\n",
    "    else:\n",
    "        print(f\"Não foi possível encontrar a cidade: {city}. Verifique se o nome está correto.\")\n",
    "        engine = pyttsx3.init()\n",
    "        engine.say(f\"Não foi possível encontrar a cidade: {city}. Verifique se o nome está correto.\")\n",
    "        engine.runAndWait()\n",
    "else:\n",
    "    # Se a solicitação não for bem-sucedida, imprima uma mensagem de erro detalhada\n",
    "    print(f\"Ocorreu um erro ao obter as informações meteorológicas. Código de status: {response.status_code}\")\n",
    "    engine = pyttsx3.init()\n",
    "    engine.say(f\"Ocorreu um erro ao obter as informações meteorológicas. Código de status: {response.status_code}\")\n",
    "    engine.runAndWait()\n",
    "\n",
    "    "
   ]
  },
  {
   "cell_type": "code",
   "execution_count": null,
   "id": "2c90ac6b-2201-4aa7-83e0-55c65b19d78b",
   "metadata": {},
   "outputs": [],
   "source": []
  }
 ],
 "metadata": {
  "kernelspec": {
   "display_name": "Python 3 (ipykernel)",
   "language": "python",
   "name": "python3"
  },
  "language_info": {
   "codemirror_mode": {
    "name": "ipython",
    "version": 3
   },
   "file_extension": ".py",
   "mimetype": "text/x-python",
   "name": "python",
   "nbconvert_exporter": "python",
   "pygments_lexer": "ipython3",
   "version": "3.9.7"
  }
 },
 "nbformat": 4,
 "nbformat_minor": 5
}
